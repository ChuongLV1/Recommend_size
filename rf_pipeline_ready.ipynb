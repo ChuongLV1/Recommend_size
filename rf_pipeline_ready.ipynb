{
 "cells": [
  {
   "cell_type": "markdown",
   "id": "2cfffc2a",
   "metadata": {},
   "source": [
    "# 🌲 RandomForest – Leakage check + CV + Noise + Training\n",
    "Flow:\n",
    "1) Load dữ liệu & chuẩn hóa tên cột\n",
    "2) EDA nhanh\n",
    "3) Chuẩn bị features/label (numeric/categorical)\n",
    "4) Train/Test split + kiểm tra trùng mẫu (leakage)\n",
    "5) Stratified K-Fold Cross-Validation (Pipeline OneHot + RF)\n",
    "6) (Tuỳ chọn) Thêm feature noise + label noise\n",
    "7) GridSearchCV → lưu pipeline & label encoder, log CSV, confusion matrix"
   ]
  },
  {
   "cell_type": "markdown",
   "id": "196832b3",
   "metadata": {},
   "source": [
    "## 1) Load dữ liệu"
   ]
  },
  {
   "cell_type": "code",
   "execution_count": 24,
   "id": "f1a6080a",
   "metadata": {},
   "outputs": [],
   "source": [
    "\n",
    "from sklearn.model_selection import GridSearchCV\n",
    "from sklearn.metrics import accuracy_score, f1_score, classification_report, confusion_matrix\n",
    "from sklearn.compose import ColumnTransformer\n",
    "from sklearn.preprocessing import OneHotEncoder\n",
    "from sklearn.pipeline import Pipeline\n",
    "from sklearn.ensemble import RandomForestClassifier\n",
    "import joblib\n",
    "import os\n",
    "import pandas as pd\n",
    "import numpy as np\n",
    "import matplotlib.pyplot as plt\n",
    "from sklearn.preprocessing import LabelEncoder\n",
    "from sklearn.model_selection import train_test_split\n",
    "from sklearn.model_selection import StratifiedKFold, cross_val_score\n",
    "from imblearn.over_sampling import SMOTE\n",
    "import pandas as pd\n",
    "from sklearn.preprocessing import LabelEncoder, StandardScaler, OneHotEncoder\n",
    "from sklearn.model_selection import train_test_split\n",
    "from imblearn.over_sampling import SMOTE\n",
    "from sklearn.compose import ColumnTransformer\n"
   ]
  },
  {
   "cell_type": "code",
   "execution_count": 25,
   "id": "de9a1929",
   "metadata": {},
   "outputs": [
    {
     "name": "stdout",
     "output_type": "stream",
     "text": [
      "1.6.1\n"
     ]
    }
   ],
   "source": [
    "import sklearn\n",
    "print(sklearn.__version__)"
   ]
  },
  {
   "cell_type": "code",
   "execution_count": 26,
   "id": "e18c0d9f",
   "metadata": {},
   "outputs": [
    {
     "name": "stdout",
     "output_type": "stream",
     "text": [
      "✅ Đã đọc: ../Recommend_size/datanew.csv\n"
     ]
    },
    {
     "data": {
      "text/html": [
       "<div>\n",
       "<style scoped>\n",
       "    .dataframe tbody tr th:only-of-type {\n",
       "        vertical-align: middle;\n",
       "    }\n",
       "\n",
       "    .dataframe tbody tr th {\n",
       "        vertical-align: top;\n",
       "    }\n",
       "\n",
       "    .dataframe thead th {\n",
       "        text-align: right;\n",
       "    }\n",
       "</style>\n",
       "<table border=\"1\" class=\"dataframe\">\n",
       "  <thead>\n",
       "    <tr style=\"text-align: right;\">\n",
       "      <th></th>\n",
       "      <th>height</th>\n",
       "      <th>weight</th>\n",
       "      <th>gender</th>\n",
       "      <th>chest</th>\n",
       "      <th>waist</th>\n",
       "      <th>shoulder</th>\n",
       "      <th>size</th>\n",
       "    </tr>\n",
       "  </thead>\n",
       "  <tbody>\n",
       "    <tr>\n",
       "      <th>0</th>\n",
       "      <td>1.81</td>\n",
       "      <td>75</td>\n",
       "      <td>Nam</td>\n",
       "      <td>120</td>\n",
       "      <td>120</td>\n",
       "      <td>55</td>\n",
       "      <td>XL</td>\n",
       "    </tr>\n",
       "    <tr>\n",
       "      <th>1</th>\n",
       "      <td>1.56</td>\n",
       "      <td>46</td>\n",
       "      <td>Nam</td>\n",
       "      <td>98</td>\n",
       "      <td>101</td>\n",
       "      <td>49</td>\n",
       "      <td>XS</td>\n",
       "    </tr>\n",
       "    <tr>\n",
       "      <th>2</th>\n",
       "      <td>1.63</td>\n",
       "      <td>81</td>\n",
       "      <td>Nam</td>\n",
       "      <td>115</td>\n",
       "      <td>114</td>\n",
       "      <td>55</td>\n",
       "      <td>L</td>\n",
       "    </tr>\n",
       "    <tr>\n",
       "      <th>3</th>\n",
       "      <td>1.67</td>\n",
       "      <td>85</td>\n",
       "      <td>Nữ</td>\n",
       "      <td>122</td>\n",
       "      <td>118</td>\n",
       "      <td>55</td>\n",
       "      <td>XL</td>\n",
       "    </tr>\n",
       "    <tr>\n",
       "      <th>4</th>\n",
       "      <td>1.65</td>\n",
       "      <td>88</td>\n",
       "      <td>Nam</td>\n",
       "      <td>112</td>\n",
       "      <td>116</td>\n",
       "      <td>54</td>\n",
       "      <td>L</td>\n",
       "    </tr>\n",
       "  </tbody>\n",
       "</table>\n",
       "</div>"
      ],
      "text/plain": [
       "   height  weight gender  chest  waist  shoulder size\n",
       "0    1.81      75    Nam    120    120        55   XL\n",
       "1    1.56      46    Nam     98    101        49   XS\n",
       "2    1.63      81    Nam    115    114        55    L\n",
       "3    1.67      85     Nữ    122    118        55   XL\n",
       "4    1.65      88    Nam    112    116        54    L"
      ]
     },
     "execution_count": 26,
     "metadata": {},
     "output_type": "execute_result"
    }
   ],
   "source": [
    "# Load dữ liệu\n",
    "DATA_PATH = \"../Recommend_size/datanew.csv\"\n",
    "df = pd.read_csv(DATA_PATH)\n",
    "print(\"✅ Đã đọc:\", DATA_PATH)\n",
    "df.head()\n"
   ]
  },
  {
   "cell_type": "markdown",
   "id": "43b3ccd5",
   "metadata": {},
   "source": [
    "## 2) EDA nhanh"
   ]
  },
  {
   "cell_type": "code",
   "execution_count": 27,
   "id": "2a289446",
   "metadata": {},
   "outputs": [
    {
     "data": {
      "text/html": [
       "<div>\n",
       "<style scoped>\n",
       "    .dataframe tbody tr th:only-of-type {\n",
       "        vertical-align: middle;\n",
       "    }\n",
       "\n",
       "    .dataframe tbody tr th {\n",
       "        vertical-align: top;\n",
       "    }\n",
       "\n",
       "    .dataframe thead th {\n",
       "        text-align: right;\n",
       "    }\n",
       "</style>\n",
       "<table border=\"1\" class=\"dataframe\">\n",
       "  <thead>\n",
       "    <tr style=\"text-align: right;\">\n",
       "      <th></th>\n",
       "      <th>height</th>\n",
       "      <th>weight</th>\n",
       "      <th>gender</th>\n",
       "      <th>chest</th>\n",
       "      <th>waist</th>\n",
       "      <th>shoulder</th>\n",
       "      <th>size</th>\n",
       "      <th>BMI</th>\n",
       "    </tr>\n",
       "  </thead>\n",
       "  <tbody>\n",
       "    <tr>\n",
       "      <th>count</th>\n",
       "      <td>699.000000</td>\n",
       "      <td>699.000000</td>\n",
       "      <td>699</td>\n",
       "      <td>699.000000</td>\n",
       "      <td>699.000000</td>\n",
       "      <td>699.000000</td>\n",
       "      <td>699</td>\n",
       "      <td>699.000000</td>\n",
       "    </tr>\n",
       "    <tr>\n",
       "      <th>unique</th>\n",
       "      <td>NaN</td>\n",
       "      <td>NaN</td>\n",
       "      <td>2</td>\n",
       "      <td>NaN</td>\n",
       "      <td>NaN</td>\n",
       "      <td>NaN</td>\n",
       "      <td>6</td>\n",
       "      <td>NaN</td>\n",
       "    </tr>\n",
       "    <tr>\n",
       "      <th>top</th>\n",
       "      <td>NaN</td>\n",
       "      <td>NaN</td>\n",
       "      <td>Nam</td>\n",
       "      <td>NaN</td>\n",
       "      <td>NaN</td>\n",
       "      <td>NaN</td>\n",
       "      <td>XL</td>\n",
       "      <td>NaN</td>\n",
       "    </tr>\n",
       "    <tr>\n",
       "      <th>freq</th>\n",
       "      <td>NaN</td>\n",
       "      <td>NaN</td>\n",
       "      <td>359</td>\n",
       "      <td>NaN</td>\n",
       "      <td>NaN</td>\n",
       "      <td>NaN</td>\n",
       "      <td>203</td>\n",
       "      <td>NaN</td>\n",
       "    </tr>\n",
       "    <tr>\n",
       "      <th>mean</th>\n",
       "      <td>1.701359</td>\n",
       "      <td>73.507868</td>\n",
       "      <td>NaN</td>\n",
       "      <td>116.387697</td>\n",
       "      <td>116.261803</td>\n",
       "      <td>54.672389</td>\n",
       "      <td>NaN</td>\n",
       "      <td>256125.324484</td>\n",
       "    </tr>\n",
       "    <tr>\n",
       "      <th>std</th>\n",
       "      <td>0.108035</td>\n",
       "      <td>18.697513</td>\n",
       "      <td>NaN</td>\n",
       "      <td>8.083725</td>\n",
       "      <td>7.999023</td>\n",
       "      <td>2.947967</td>\n",
       "      <td>NaN</td>\n",
       "      <td>69979.898860</td>\n",
       "    </tr>\n",
       "    <tr>\n",
       "      <th>min</th>\n",
       "      <td>1.480000</td>\n",
       "      <td>40.000000</td>\n",
       "      <td>NaN</td>\n",
       "      <td>98.000000</td>\n",
       "      <td>98.000000</td>\n",
       "      <td>47.000000</td>\n",
       "      <td>NaN</td>\n",
       "      <td>119442.204903</td>\n",
       "    </tr>\n",
       "    <tr>\n",
       "      <th>25%</th>\n",
       "      <td>1.610000</td>\n",
       "      <td>58.000000</td>\n",
       "      <td>NaN</td>\n",
       "      <td>109.000000</td>\n",
       "      <td>109.000000</td>\n",
       "      <td>53.000000</td>\n",
       "      <td>NaN</td>\n",
       "      <td>197706.591379</td>\n",
       "    </tr>\n",
       "    <tr>\n",
       "      <th>50%</th>\n",
       "      <td>1.700000</td>\n",
       "      <td>74.000000</td>\n",
       "      <td>NaN</td>\n",
       "      <td>118.000000</td>\n",
       "      <td>118.000000</td>\n",
       "      <td>55.000000</td>\n",
       "      <td>NaN</td>\n",
       "      <td>251531.502292</td>\n",
       "    </tr>\n",
       "    <tr>\n",
       "      <th>75%</th>\n",
       "      <td>1.790000</td>\n",
       "      <td>88.000000</td>\n",
       "      <td>NaN</td>\n",
       "      <td>122.000000</td>\n",
       "      <td>122.000000</td>\n",
       "      <td>57.000000</td>\n",
       "      <td>NaN</td>\n",
       "      <td>304823.118030</td>\n",
       "    </tr>\n",
       "    <tr>\n",
       "      <th>max</th>\n",
       "      <td>1.900000</td>\n",
       "      <td>110.000000</td>\n",
       "      <td>NaN</td>\n",
       "      <td>128.000000</td>\n",
       "      <td>128.000000</td>\n",
       "      <td>59.000000</td>\n",
       "      <td>NaN</td>\n",
       "      <td>447896.120973</td>\n",
       "    </tr>\n",
       "  </tbody>\n",
       "</table>\n",
       "</div>"
      ],
      "text/plain": [
       "            height      weight gender       chest       waist    shoulder  \\\n",
       "count   699.000000  699.000000    699  699.000000  699.000000  699.000000   \n",
       "unique         NaN         NaN      2         NaN         NaN         NaN   \n",
       "top            NaN         NaN    Nam         NaN         NaN         NaN   \n",
       "freq           NaN         NaN    359         NaN         NaN         NaN   \n",
       "mean      1.701359   73.507868    NaN  116.387697  116.261803   54.672389   \n",
       "std       0.108035   18.697513    NaN    8.083725    7.999023    2.947967   \n",
       "min       1.480000   40.000000    NaN   98.000000   98.000000   47.000000   \n",
       "25%       1.610000   58.000000    NaN  109.000000  109.000000   53.000000   \n",
       "50%       1.700000   74.000000    NaN  118.000000  118.000000   55.000000   \n",
       "75%       1.790000   88.000000    NaN  122.000000  122.000000   57.000000   \n",
       "max       1.900000  110.000000    NaN  128.000000  128.000000   59.000000   \n",
       "\n",
       "       size            BMI  \n",
       "count   699     699.000000  \n",
       "unique    6            NaN  \n",
       "top      XL            NaN  \n",
       "freq    203            NaN  \n",
       "mean    NaN  256125.324484  \n",
       "std     NaN   69979.898860  \n",
       "min     NaN  119442.204903  \n",
       "25%     NaN  197706.591379  \n",
       "50%     NaN  251531.502292  \n",
       "75%     NaN  304823.118030  \n",
       "max     NaN  447896.120973  "
      ]
     },
     "metadata": {},
     "output_type": "display_data"
    },
    {
     "data": {
      "image/png": "[encoded data removed]",
      "text/plain": [
       "<Figure size 600x400 with 1 Axes>"
      ]
     },
     "metadata": {},
     "output_type": "display_data"
    },
    {
     "data": {
      "image/png": "[encoded data removed]",
      "text/plain": [
       "<Figure size 600x400 with 1 Axes>"
      ]
     },
     "metadata": {},
     "output_type": "display_data"
    },
    {
     "data": {
      "image/png": "[encoded data removed]",
      "text/plain": [
       "<Figure size 600x500 with 1 Axes>"
      ]
     },
     "metadata": {},
     "output_type": "display_data"
    }
   ],
   "source": [
    "\n",
    "assert \"size\" in df.columns, \"Thiếu cột nhãn 'size'.\"\n",
    "if \"height\" in df.columns and \"weight\" in df.columns and \"BMI\" not in df.columns:\n",
    "    df[\"BMI\"] = df[\"weight\"] / ((df[\"height\"]/100.0)**2)\n",
    "\n",
    "display(df.describe(include=\"all\"))\n",
    "\n",
    "# Histogram height/weight (nếu có)\n",
    "if \"height\" in df.columns:\n",
    "    plt.figure(figsize=(6,4)); plt.hist(df[\"height\"].dropna(), bins=24)\n",
    "    plt.title(\"Histogram - height\"); plt.xlabel(\"height (cm)\"); plt.ylabel(\"count\"); plt.tight_layout(); plt.show()\n",
    "if \"weight\" in df.columns:\n",
    "    plt.figure(figsize=(6,4)); plt.hist(df[\"weight\"].dropna(), bins=24)\n",
    "    plt.title(\"Histogram - weight\"); plt.xlabel(\"weight (kg)\"); plt.ylabel(\"count\"); plt.tight_layout(); plt.show()\n",
    "\n",
    "# Scatter height vs weight theo size\n",
    "if all(c in df.columns for c in [\"height\",\"weight\",\"size\"]):\n",
    "    plt.figure(figsize=(6,5))\n",
    "    for s in df[\"size\"].unique():\n",
    "        sub = df[df[\"size\"]==s]\n",
    "        plt.scatter(sub[\"height\"], sub[\"weight\"], s=16, label=str(s))\n",
    "    plt.title(\"Scatter: height vs weight theo size\"); plt.xlabel(\"height\"); plt.ylabel(\"weight\")\n",
    "    plt.legend(title=\"size\"); plt.tight_layout(); plt.show()\n"
   ]
  },
  {
   "cell_type": "markdown",
   "id": "c0a31248",
   "metadata": {},
   "source": [
    "## 3) Chuẩn bị features/label, tách numeric & categorical"
   ]
  },
  {
   "cell_type": "code",
   "execution_count": 28,
   "id": "27802e9b",
   "metadata": {},
   "outputs": [
    {
     "name": "stdout",
     "output_type": "stream",
     "text": [
      "Numeric features: ['height', 'weight', 'chest', 'waist', 'shoulder', 'BMI']\n",
      "Categorical features: ['gender']\n"
     ]
    }
   ],
   "source": [
    "\n",
    "feature_cols = [c for c in df.columns if c != \"size\"]\n",
    "feature_cols = [c for c in feature_cols if not df[c].isna().all()]\n",
    "df_use = df[feature_cols + [\"size\"]].dropna().copy()\n",
    "\n",
    "# Ép kiểu số nếu có thể\n",
    "for c in feature_cols:\n",
    "    if df_use[c].dtype == object:\n",
    "        try:\n",
    "            df_use[c] = pd.to_numeric(df_use[c])\n",
    "        except Exception:\n",
    "            pass\n",
    "\n",
    "cat_cols = [c for c in feature_cols if df_use[c].dtype == object]\n",
    "num_cols = [c for c in feature_cols if c not in cat_cols]\n",
    "\n",
    "print(\"Numeric features:\", num_cols)\n",
    "print(\"Categorical features:\", cat_cols)\n",
    "\n",
    "le = LabelEncoder()\n",
    "y = le.fit_transform(df_use[\"size\"])\n",
    "X = df_use[feature_cols]\n"
   ]
  },
  {
   "cell_type": "markdown",
   "id": "aaf21586",
   "metadata": {},
   "source": [
    "## 4) Train/Test split + kiểm tra trùng mẫu (leakage)"
   ]
  },
  {
   "cell_type": "code",
   "execution_count": 29,
   "id": "12c6c5bd",
   "metadata": {},
   "outputs": [
    {
     "name": "stdout",
     "output_type": "stream",
     "text": [
      "Train: (559, 7)  | Test: (140, 7)\n",
      "⚠️ Số bản ghi trùng giữa train/test: 0\n"
     ]
    }
   ],
   "source": [
    "\n",
    "\n",
    "X_train, X_test, y_train, y_test = train_test_split(\n",
    "    X, y, test_size=0.2, random_state=42, stratify=y\n",
    ")\n",
    "print(\"Train:\", X_train.shape, \" | Test:\", X_test.shape)\n",
    "\n",
    "# Kiểm tra bản ghi trùng giữa train/test\n",
    "train_df = X_train.copy(); test_df = X_test.copy()\n",
    "for c in feature_cols:\n",
    "    if train_df[c].dtype == object:\n",
    "        train_df[c] = train_df[c].astype(str)\n",
    "        test_df[c] = test_df[c].astype(str)\n",
    "\n",
    "dup = train_df.merge(test_df, on=feature_cols, how=\"inner\")\n",
    "print(f\"⚠️ Số bản ghi trùng giữa train/test: {len(dup)}\")\n"
   ]
  },
  {
   "cell_type": "markdown",
   "id": "27cf5476",
   "metadata": {},
   "source": [
    "## 5) Stratified K-Fold CV với Pipeline (OneHot + RF)"
   ]
  },
  {
   "cell_type": "code",
   "execution_count": 30,
   "id": "dfe48ba0",
   "metadata": {},
   "outputs": [
    {
     "name": "stdout",
     "output_type": "stream",
     "text": [
      "CV scores: [1. 1. 1. 1. 1.]  | Mean: 1.0\n"
     ]
    }
   ],
   "source": [
    "\n",
    "preprocess = ColumnTransformer([\n",
    "    (\"cat\", OneHotEncoder(handle_unknown=\"ignore\"), cat_cols),\n",
    "    (\"num\", \"passthrough\", num_cols),\n",
    "])\n",
    "rf = RandomForestClassifier(random_state=42, n_jobs=-1)\n",
    "pipe = Pipeline([(\"prep\", preprocess), (\"rf\", rf)])\n",
    "\n",
    "cv = StratifiedKFold(n_splits=5, shuffle=True, random_state=42)\n",
    "cv_scores = cross_val_score(pipe, X, y, cv=cv, scoring=\"accuracy\", n_jobs=-1)\n",
    "print(\"CV scores:\", cv_scores, \" | Mean:\", round(cv_scores.mean(), 4))\n"
   ]
  },
  {
   "cell_type": "markdown",
   "id": "d4f81327",
   "metadata": {},
   "source": [
    "## 6) (Tuỳ chọn) Thêm noise (feature + label)"
   ]
  },
  {
   "cell_type": "code",
   "execution_count": 31,
   "id": "07f6633f",
   "metadata": {},
   "outputs": [
    {
     "name": "stdout",
     "output_type": "stream",
     "text": [
      "Đã thêm label noise: 13 mẫu (~2.0%).\n"
     ]
    }
   ],
   "source": [
    "\n",
    "ADD_FEATURE_NOISE = True\n",
    "ADD_LABEL_NOISE   = True\n",
    "rng = np.random.default_rng(42)\n",
    "\n",
    "X_aug = X.copy().reset_index(drop=True)\n",
    "y_aug = y.copy()\n",
    "\n",
    "# Feature noise\n",
    "if ADD_FEATURE_NOISE and len(num_cols) > 0:\n",
    "    ratios = {\"height\":0.005,\"weight\":0.01,\"chest\":0.01,\"waist\":0.01,\"shoulder\":0.01,\"BMI\":0.015}\n",
    "    for c in num_cols:\n",
    "        r = ratios.get(c, 0.008)\n",
    "        std = (X_aug[c].astype(float).abs() + 1e-6) * r\n",
    "        X_aug[c] = X_aug[c].astype(float) + rng.normal(0, std)\n",
    "    if \"height\" in X_aug.columns: X_aug[\"height\"] = X_aug[\"height\"].clip(120, 220)\n",
    "    if \"weight\" in X_aug.columns: X_aug[\"weight\"] = X_aug[\"weight\"].clip(30, 200)\n",
    "\n",
    "# Label noise 2%\n",
    "if ADD_LABEL_NOISE:\n",
    "    rate = 0.02\n",
    "    nflip = int(len(y_aug)*rate)\n",
    "    idxs = rng.choice(len(y_aug), size=nflip, replace=False)\n",
    "    labels = np.unique(y_aug)\n",
    "    for i in idxs:\n",
    "        cur = y_aug[i]\n",
    "        choices = labels[labels != cur]\n",
    "        y_aug[i] = rng.choice(choices)\n",
    "    print(f\"Đã thêm label noise: {nflip} mẫu (~{rate*100:.1f}%).\")\n"
   ]
  },
  {
   "cell_type": "markdown",
   "id": "540911f0",
   "metadata": {},
   "source": [
    "## 7) GridSearchCV + lưu pipeline, label encoder, log CSV, confusion matrix"
   ]
  },
  {
   "cell_type": "code",
   "execution_count": 32,
   "id": "61f68ad7",
   "metadata": {},
   "outputs": [
    {
     "name": "stdout",
     "output_type": "stream",
     "text": [
      "Best params: {'rf__max_depth': None, 'rf__max_features': 'sqrt', 'rf__min_samples_leaf': 1, 'rf__min_samples_split': 2, 'rf__n_estimators': 400}\n",
      "Best CV accuracy: 0.9624\n",
      "Test accuracy: 0.9643 | F1-macro: 0.9304\n",
      "\n",
      "Classification report:\n",
      "              precision    recall  f1-score   support\n",
      "\n",
      "           L       0.93      1.00      0.96        25\n",
      "           M       1.00      0.95      0.97        20\n",
      "           S       0.94      0.94      0.94        16\n",
      "          XL       0.97      1.00      0.99        39\n",
      "          XS       1.00      0.60      0.75         5\n",
      "         XXL       0.97      0.97      0.97        35\n",
      "\n",
      "    accuracy                           0.96       140\n",
      "   macro avg       0.97      0.91      0.93       140\n",
      "weighted avg       0.97      0.96      0.96       140\n",
      "\n",
      "✅ Saved pipeline & label encoder.\n",
      "✅ Saved rf_full_training_log.csv\n"
     ]
    },
    {
     "data": {
      "image/png": "[encoded data removed]",
      "text/plain": [
       "<Figure size 600x500 with 2 Axes>"
      ]
     },
     "metadata": {},
     "output_type": "display_data"
    },
    {
     "name": "stdout",
     "output_type": "stream",
     "text": [
      "✅ Saved rf_full_confusion_matrix.png\n"
     ]
    }
   ],
   "source": [
    "\n",
    "X_tr, X_te, y_tr, y_te = train_test_split(\n",
    "    X_aug, y_aug, test_size=0.2, random_state=42, stratify=y_aug\n",
    ")\n",
    "\n",
    "preprocess = ColumnTransformer([\n",
    "    (\"cat\", OneHotEncoder(handle_unknown=\"ignore\"), cat_cols),\n",
    "    (\"num\", \"passthrough\", num_cols),\n",
    "])\n",
    "\n",
    "rf = RandomForestClassifier(random_state=42, n_jobs=-1)\n",
    "pipe = Pipeline([(\"prep\", preprocess), (\"rf\", rf)])\n",
    "\n",
    "param_grid = {\n",
    "    \"rf__n_estimators\": [200, 400],\n",
    "    \"rf__max_depth\": [None, 10, 16],\n",
    "    \"rf__min_samples_split\": [2, 4],\n",
    "    \"rf__min_samples_leaf\": [1, 2],\n",
    "    \"rf__max_features\": [\"sqrt\", \"log2\", None],\n",
    "}\n",
    "\n",
    "gs = GridSearchCV(pipe, param_grid, cv=5, scoring=\"accuracy\", n_jobs=-1)\n",
    "gs.fit(X_tr, y_tr)\n",
    "\n",
    "best_pipe = gs.best_estimator_\n",
    "print(\"Best params:\", gs.best_params_)\n",
    "print(\"Best CV accuracy:\", round(gs.best_score_, 4))\n",
    "\n",
    "# Test\n",
    "y_pred = best_pipe.predict(X_te)\n",
    "acc = accuracy_score(y_te, y_pred)\n",
    "f1m = f1_score(y_te, y_pred, average=\"macro\")\n",
    "print(\"Test accuracy:\", round(acc,4), \"| F1-macro:\", round(f1m,4))\n",
    "\n",
    "labels_sorted = np.unique(y_te)\n",
    "target_names  = le.inverse_transform(labels_sorted)\n",
    "print(\"\\nClassification report:\")\n",
    "print(classification_report(y_te, y_pred, labels=labels_sorted, target_names=target_names))\n",
    "\n",
    "# Save artifacts\n",
    "OUT_DIR = \".\"\n",
    "joblib.dump(best_pipe, os.path.join(OUT_DIR, \"rf_full_pipeline.pkl\"))\n",
    "joblib.dump(le,        os.path.join(OUT_DIR, \"rf_full_label_encoder.pkl\"))\n",
    "print(\"✅ Saved pipeline & label encoder.\")\n",
    "\n",
    "# Log CSV\n",
    "rep_dict = classification_report(y_te, y_pred, output_dict=True, labels=labels_sorted, target_names=target_names)\n",
    "log_df = pd.DataFrame(rep_dict).transpose().reset_index().rename(columns={\"index\":\"label\"})\n",
    "log_df.insert(1, \"acc_overall\", acc); log_df.insert(2, \"f1_macro_overall\", f1m)\n",
    "log_df.to_csv(os.path.join(OUT_DIR, \"rf_full_training_log.csv\"), index=False)\n",
    "print(\"✅ Saved rf_full_training_log.csv\")\n",
    "\n",
    "# Confusion matrix (save ảnh)\n",
    "cm = confusion_matrix(y_te, y_pred, labels=labels_sorted)\n",
    "plt.figure(figsize=(6,5))\n",
    "plt.imshow(cm, cmap=\"Blues\")\n",
    "plt.title(\"Confusion Matrix - RF (final)\")\n",
    "plt.xlabel(\"Predicted\"); plt.ylabel(\"Actual\")\n",
    "for (i,j),v in np.ndenumerate(cm):\n",
    "    plt.text(j, i, str(v), ha=\"center\", va=\"center\")\n",
    "plt.colorbar(); plt.tight_layout()\n",
    "plt.savefig(os.path.join(OUT_DIR, \"rf_full_confusion_matrix.png\"), dpi=150)\n",
    "plt.show()\n",
    "print(\"✅ Saved rf_full_confusion_matrix.png\")\n"
   ]
  },
  {
   "cell_type": "code",
   "execution_count": null,
   "id": "fcb38bb4",
   "metadata": {},
   "outputs": [],
   "source": []
  }
 ],
 "metadata": {
  "kernelspec": {
   "display_name": "Python 3",
   "language": "python",
   "name": "python3"
  },
  "language_info": {
   "codemirror_mode": {
    "name": "ipython",
    "version": 3
   },
   "file_extension": ".py",
   "mimetype": "text/x-python",
   "name": "python",
   "nbconvert_exporter": "python",
   "pygments_lexer": "ipython3",
   "version": "3.10.8"
  }
 },
 "nbformat": 4,
 "nbformat_minor": 5
}
